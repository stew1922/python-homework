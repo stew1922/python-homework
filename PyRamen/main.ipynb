{
 "metadata": {
  "language_info": {
   "codemirror_mode": {
    "name": "ipython",
    "version": 3
   },
   "file_extension": ".py",
   "mimetype": "text/x-python",
   "name": "python",
   "nbconvert_exporter": "python",
   "pygments_lexer": "ipython3",
   "version": "3.8.3-final"
  },
  "orig_nbformat": 2,
  "kernelspec": {
   "name": "python_defaultSpec_1600953097185",
   "display_name": "Python 3.8.3 64-bit ('base': conda)"
  }
 },
 "nbformat": 4,
 "nbformat_minor": 2,
 "cells": [
  {
   "cell_type": "code",
   "execution_count": 1,
   "metadata": {},
   "outputs": [],
   "source": [
    "from pathlib import Path\n",
    "import csv\n",
    "\n",
    "# PART 1\n",
    "\n",
    "# read menu data\n",
    "## initialize menu list to put the data from 'menu_data.csv' into\n",
    "## create the filepath to menu_data.csv, open it as an object\n",
    "## create an object that reads the data\n",
    "## skip the header row\n",
    "## append every row in menu_data.csv to menu list\n",
    "\n",
    "# repeat above process for 'sales_data.csv'\n",
    "\n",
    "\n",
    "\n",
    "# PART 2\n",
    "\n",
    "# initialize a 'report' dicitonary to hold the following items:\n",
    "    # '01-count' = total quantity for each ramen type\n",
    "    # '02-rev' = total revenue for each ramen type\n",
    "    # '03-cogs' = total cost of good sold for each ramen type\n",
    "    # '04-profit' = total profit for each ramen type\n"
   ]
  }
 ]
}