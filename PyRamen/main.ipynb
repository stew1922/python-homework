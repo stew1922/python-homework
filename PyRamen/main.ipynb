{
 "metadata": {
  "language_info": {
   "codemirror_mode": {
    "name": "ipython",
    "version": 3
   },
   "file_extension": ".py",
   "mimetype": "text/x-python",
   "name": "python",
   "nbconvert_exporter": "python",
   "pygments_lexer": "ipython3",
   "version": "3.8.3-final"
  },
  "orig_nbformat": 2,
  "kernelspec": {
   "name": "Python 3.8.3 64-bit ('base': conda)",
   "display_name": "Python 3.8.3 64-bit ('base': conda)",
   "metadata": {
    "interpreter": {
     "hash": "ccf84ffe5cf603e51c19b5d04a34c5dc50c44e9c354d1e154b7697a3403a7e31"
    }
   }
  }
 },
 "nbformat": 4,
 "nbformat_minor": 2,
 "cells": [
  {
   "source": [
    "## Import Path from pathlib library\n",
    "## import the csv library\n"
   ],
   "cell_type": "markdown",
   "metadata": {}
  },
  {
   "cell_type": "code",
   "execution_count": 1,
   "metadata": {},
   "outputs": [],
   "source": [
    "from pathlib import Path\n",
    "import csv"
   ]
  },
  {
   "source": [
    "# **PART 1**\n",
    "## Read the Data"
   ],
   "cell_type": "markdown",
   "metadata": {}
  },
  {
   "source": [
    "### read menu data\n",
    "#### initialize menu list to store the data from [menu_data.csv](./Resources/menu_data.csv)"
   ],
   "cell_type": "markdown",
   "metadata": {}
  },
  {
   "cell_type": "code",
   "execution_count": 2,
   "metadata": {},
   "outputs": [],
   "source": [
    "menu = []"
   ]
  },
  {
   "source": [
    "#### create the filepath to [menu_data.csv](./Resources/menu_data.csv), store it as an object"
   ],
   "cell_type": "markdown",
   "metadata": {}
  },
  {
   "cell_type": "code",
   "execution_count": 3,
   "metadata": {},
   "outputs": [],
   "source": [
    "menupath = Path('./Resources/menu_data.csv')"
   ]
  },
  {
   "source": [
    "#### open the file and create an object that reads the data and then append every row in [menu_data.csv](./Resources/menu_data.csv) to the menu list"
   ],
   "cell_type": "markdown",
   "metadata": {}
  },
  {
   "cell_type": "code",
   "execution_count": 4,
   "metadata": {
    "tags": []
   },
   "outputs": [],
   "source": [
    "with open(menupath, 'r') as menu_data:\n",
    "    menureader = csv.reader(menu_data, delimiter = ',')\n",
    "    \n",
    "    next(menureader)\n",
    "    for item in menureader:\n",
    "        menu.append(item)"
   ]
  },
  {
   "source": [
    "#### repeat above process for [sales_data.csv](./Resources/sales_data.csv)\n"
   ],
   "cell_type": "markdown",
   "metadata": {}
  },
  {
   "cell_type": "code",
   "execution_count": 5,
   "metadata": {
    "tags": []
   },
   "outputs": [],
   "source": [
    "sales = []\n",
    "\n",
    "salespath = Path('./Resources/sales_data.csv')\n",
    "\n",
    "with open(salespath, 'r') as sales_data:\n",
    "    salesreader = csv.reader(sales_data, delimiter = ',')\n",
    "\n",
    "    for sale in salesreader:\n",
    "        sales.append(sale)"
   ]
  },
  {
   "source": [
    "# **PART 2**\n",
    "## manipulate the data"
   ],
   "cell_type": "markdown",
   "metadata": {}
  },
  {
   "source": [
    "### initialize a 'report' dicitonary to hold the following items:\n",
    "#### * '01-count' = total quantity for each ramen type\n",
    "#### * '02-rev' = total revenue for each ramen type\n",
    "#### * '03-cogs' = total cost of good sold for each ramen type\n",
    "#### * '04-profit' = total profit for each ramen type"
   ],
   "cell_type": "markdown",
   "metadata": {}
  },
  {
   "cell_type": "code",
   "execution_count": 19,
   "metadata": {},
   "outputs": [],
   "source": [
    "report = {}"
   ]
  },
  {
   "cell_type": "code",
   "execution_count": 13,
   "metadata": {
    "tags": []
   },
   "outputs": [
    {
     "output_type": "stream",
     "name": "stdout",
     "text": "appetizers\nappetizers\nappetizers\nappetizers\nappetizers\nappetizers\nappetizers\nappetizers\nappetizers\nappetizers\nappetizers\nappetizers\nappetizers\nappetizers\nentree\nentree\nentree\nentree\nentree\nentree\nentree\nentree\nentree\nentree\nentree\ndrinks\ndrinks\ndesserts\ndesserts\ndesserts\ndesserts\ndesserts\n"
    }
   ],
   "source": [
    "for entry in menu:\n",
    "    print(entry[1])"
   ]
  },
  {
   "cell_type": "code",
   "execution_count": null,
   "metadata": {},
   "outputs": [],
   "source": []
  }
 ]
}