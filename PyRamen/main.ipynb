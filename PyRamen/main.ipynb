{
 "metadata": {
  "language_info": {
   "codemirror_mode": {
    "name": "ipython",
    "version": 3
   },
   "file_extension": ".py",
   "mimetype": "text/x-python",
   "name": "python",
   "nbconvert_exporter": "python",
   "pygments_lexer": "ipython3",
   "version": "3.8.3-final"
  },
  "orig_nbformat": 2,
  "kernelspec": {
   "name": "Python 3.8.3 64-bit ('base': conda)",
   "display_name": "Python 3.8.3 64-bit ('base': conda)",
   "metadata": {
    "interpreter": {
     "hash": "ccf84ffe5cf603e51c19b5d04a34c5dc50c44e9c354d1e154b7697a3403a7e31"
    }
   }
  }
 },
 "nbformat": 4,
 "nbformat_minor": 2,
 "cells": [
  {
   "source": [
    "## Import Path from pathlib library\n",
    "## import the csv library\n"
   ],
   "cell_type": "markdown",
   "metadata": {}
  },
  {
   "cell_type": "code",
   "execution_count": 1,
   "metadata": {},
   "outputs": [],
   "source": [
    "from pathlib import Path\n",
    "import csv"
   ]
  },
  {
   "source": [
    "# **PART 1**\n",
    "## Read the Data"
   ],
   "cell_type": "markdown",
   "metadata": {}
  },
  {
   "source": [
    "### read menu data\n",
    "#### initialize menu list to store the data from [menu_data.csv](./Resources/menu_data.csv)"
   ],
   "cell_type": "markdown",
   "metadata": {}
  },
  {
   "cell_type": "code",
   "execution_count": 2,
   "metadata": {},
   "outputs": [],
   "source": [
    "menu = []"
   ]
  },
  {
   "source": [
    "#### create the filepath to [menu_data.csv](./Resources/menu_data.csv), store it as an object"
   ],
   "cell_type": "markdown",
   "metadata": {}
  },
  {
   "cell_type": "code",
   "execution_count": 3,
   "metadata": {},
   "outputs": [],
   "source": [
    "menupath = Path('./Resources/menu_data.csv')"
   ]
  },
  {
   "source": [
    "#### open the file and create an object that reads the data and then append every row in [menu_data.csv](./Resources/menu_data.csv) to the menu list"
   ],
   "cell_type": "markdown",
   "metadata": {}
  },
  {
   "cell_type": "code",
   "execution_count": 4,
   "metadata": {
    "tags": []
   },
   "outputs": [],
   "source": [
    "with open(menupath, 'r') as menu_data:\n",
    "    menureader = csv.reader(menu_data, delimiter = ',')\n",
    "    \n",
    "    next(menureader)\n",
    "    for item in menureader:\n",
    "        menu.append(item)"
   ]
  },
  {
   "source": [
    "#### repeat above process for [sales_data.csv](./Resources/sales_data.csv)\n"
   ],
   "cell_type": "markdown",
   "metadata": {}
  },
  {
   "cell_type": "code",
   "execution_count": 5,
   "metadata": {
    "tags": []
   },
   "outputs": [],
   "source": [
    "sales = []\n",
    "\n",
    "salespath = Path('./Resources/sales_data.csv')\n",
    "\n",
    "with open(salespath, 'r') as sales_data:\n",
    "    salesreader = csv.reader(sales_data, delimiter = ',')\n",
    "\n",
    "    for sale in salesreader:\n",
    "        sales.append(sale)"
   ]
  },
  {
   "source": [
    "# **PART 2**\n",
    "## manipulate the data"
   ],
   "cell_type": "markdown",
   "metadata": {}
  },
  {
   "source": [
    "### initialize a 'report' dicitonary to hold the following items:\n",
    "#### * '01-count' = total quantity for each ramen type\n",
    "#### * '02-rev' = total revenue for each ramen type\n",
    "#### * '03-cogs' = total cost of good sold for each ramen type\n",
    "#### * '04-profit' = total profit for each ramen type\n",
    "##### _HINT: the ramen types are categorized as 'entree'_"
   ],
   "cell_type": "markdown",
   "metadata": {}
  },
  {
   "cell_type": "code",
   "execution_count": 6,
   "metadata": {
    "tags": []
   },
   "outputs": [
    {
     "output_type": "stream",
     "name": "stdout",
     "text": "{'nagomi shoyu': {'01-count': 0, '02-revenue': 0, '03-cogs': 0, '04-profit': 0}, 'shio ramen': {'01-count': 0, '02-revenue': 0, '03-cogs': 0, '04-profit': 0}, 'spicy miso ramen': {'01-count': 0, '02-revenue': 0, '03-cogs': 0, '04-profit': 0}, 'vegetarian spicy miso': {'01-count': 0, '02-revenue': 0, '03-cogs': 0, '04-profit': 0}, 'miso crab ramen': {'01-count': 0, '02-revenue': 0, '03-cogs': 0, '04-profit': 0}, 'soft-shell miso crab ramen': {'01-count': 0, '02-revenue': 0, '03-cogs': 0, '04-profit': 0}, 'tori paitan ramen': {'01-count': 0, '02-revenue': 0, '03-cogs': 0, '04-profit': 0}, 'tonkotsu ramen': {'01-count': 0, '02-revenue': 0, '03-cogs': 0, '04-profit': 0}, 'burnt garlic tonkotsu ramen': {'01-count': 0, '02-revenue': 0, '03-cogs': 0, '04-profit': 0}, 'vegetarian curry + king trumpet mushroom ramen': {'01-count': 0, '02-revenue': 0, '03-cogs': 0, '04-profit': 0}, 'truffle butter ramen': {'01-count': 0, '02-revenue': 0, '03-cogs': 0, '04-profit': 0}}\n"
    }
   ],
   "source": [
    "report = {}\n",
    "stuff = {\n",
    "    \"01-count\": 0,\n",
    "    \"02-revenue\": 0,\n",
    "    \"03-cogs\": 0,\n",
    "    \"04-profit\": 0\n",
    "}\n",
    "\n",
    "for entry in menu:\n",
    "    if entry[0] in report:\n",
    "        continue\n",
    "    else:\n",
    "        if entry[1] == 'entree':\n",
    "            report[entry[0]] = stuff"
   ]
  },
  {
   "source": [
    "### loop through menu and set the following to their own variables:\n",
    "#### * Item\n",
    "#### * Price\n",
    "#### * Cost\n",
    "### Once those are set, if the sales item in report is equal to item in menu, then capture the QUANTITY from [sales_data.csv](./Resources/sales_data.csv) and the PRICE and COST from [menu_data.csv](./Resources/menu_data.csv) and calculate the PROFIT for each item"
   ],
   "cell_type": "markdown",
   "metadata": {}
  },
  {
   "cell_type": "code",
   "execution_count": 8,
   "metadata": {
    "tags": [
     "outputPrepend"
    ]
   },
   "outputs": [
    {
     "output_type": "stream",
     "name": "stdout",
     "text": "en\nmiso crab ramen\nshio ramen\nshio ramen\nsoft-shell miso crab ramen\nsoft-shell miso crab ramen\nshio ramen\nshio ramen\ntonkotsu ramen\ntonkotsu ramen\nmiso crab ramen\nmiso crab ramen\nvegetarian curry + king trumpet mushroom ramen\nvegetarian curry + king trumpet mushroom ramen\nburnt garlic tonkotsu ramen\nburnt garlic tonkotsu ramen\nmiso crab ramen\nmiso crab ramen\nvegetarian spicy miso\nvegetarian spicy miso\nspicy miso ramen\nspicy miso ramen\nspicy miso ramen\nspicy miso ramen\nburnt garlic tonkotsu ramen\nburnt garlic tonkotsu ramen\nvegetarian spicy miso\nvegetarian spicy miso\nvegetarian spicy miso\nvegetarian spicy miso\nburnt garlic tonkotsu ramen\nburnt garlic tonkotsu ramen\nshio ramen\nshio ramen\ntonkotsu ramen\ntonkotsu ramen\nspicy miso ramen\nspicy miso ramen\nnagomi shoyu\nnagomi shoyu\nvegetarian curry + king trumpet mushroom ramen\nvegetarian curry + king trumpet mushroom ramen\ntruffle butter ramen\ntruffle butter ramen\ntonkotsu ramen\ntonkotsu ramen\nshio ramen\nshio ramen\ntruffle butter ramen\ntruffle butter ramen\nnagomi shoyu\nnagomi shoyu\nsoft-shell miso crab ramen\nsoft-shell miso crab ramen\nburnt garlic tonkotsu ramen\nburnt garlic tonkotsu ramen\ntonkotsu ramen\ntonkotsu ramen\nspicy miso ramen\nspicy miso ramen\nsoft-shell miso crab ramen\nsoft-shell miso crab ramen\nnagomi shoyu\nnagomi shoyu\ntruffle butter ramen\ntruffle butter ramen\nmiso crab ramen\nmiso crab ramen\ntruffle butter ramen\ntruffle butter ramen\nmiso crab ramen\nmiso crab ramen\nspicy miso ramen\nspicy miso ramen\nspicy miso ramen\nspicy miso ramen\nmiso crab ramen\nmiso crab ramen\nshio ramen\nshio ramen\ntruffle butter ramen\ntruffle butter ramen\nmiso crab ramen\nmiso crab ramen\ntori paitan ramen\ntori paitan ramen\ntonkotsu ramen\ntonkotsu ramen\nspicy miso ramen\nspicy miso ramen\nspicy miso ramen\nspicy miso ramen\ntruffle butter ramen\ntruffle butter ramen\nspicy miso ramen\nspicy miso ramen\nvegetarian curry + king trumpet mushroom ramen\nvegetarian curry + king trumpet mushroom ramen\nspicy miso ramen\nspicy miso ramen\nspicy miso ramen\nspicy miso ramen\nspicy miso ramen\nspicy miso ramen\nshio ramen\nshio ramen\nspicy miso ramen\nspicy miso ramen\ntruffle butter ramen\ntruffle butter ramen\ntori paitan ramen\ntori paitan ramen\nnagomi shoyu\nnagomi shoyu\nmiso crab ramen\nmiso crab ramen\nnagomi shoyu\nnagomi shoyu\nvegetarian spicy miso\nvegetarian spicy miso\nvegetarian curry + king trumpet mushroom ramen\nvegetarian curry + king trumpet mushroom ramen\nmiso crab ramen\nmiso crab ramen\nspicy miso ramen\nspicy miso ramen\nsoft-shell miso crab ramen\nsoft-shell miso crab ramen\ntruffle butter ramen\ntruffle butter ramen\nspicy miso ramen\nspicy miso ramen\ntruffle butter ramen\ntruffle butter ramen\nvegetarian spicy miso\nvegetarian spicy miso\nvegetarian spicy miso\nvegetarian spicy miso\nsoft-shell miso crab ramen\nsoft-shell miso crab ramen\nburnt garlic tonkotsu ramen\nburnt garlic tonkotsu ramen\nsoft-shell miso crab ramen\nsoft-shell miso crab ramen\nvegetarian spicy miso\nvegetarian spicy miso\ntori paitan ramen\ntori paitan ramen\nvegetarian spicy miso\nvegetarian spicy miso\ntori paitan ramen\ntori paitan ramen\nmiso crab ramen\nmiso crab ramen\nspicy miso ramen\nspicy miso ramen\nshio ramen\nshio ramen\ntruffle butter ramen\ntruffle butter ramen\ntruffle butter ramen\ntruffle butter ramen\nspicy miso ramen\nspicy miso ramen\nvegetarian curry + king trumpet mushroom ramen\nvegetarian curry + king trumpet mushroom ramen\nnagomi shoyu\nnagomi shoyu\nshio ramen\nshio ramen\nvegetarian spicy miso\nvegetarian spicy miso\nspicy miso ramen\nspicy miso ramen\nshio ramen\nshio ramen\nshio ramen\nshio ramen\nshio ramen\nshio ramen\ntruffle butter ramen\ntruffle butter ramen\nvegetarian spicy miso\nvegetarian spicy miso\nmiso crab ramen\nmiso crab ramen\nnagomi shoyu\nnagomi shoyu\nburnt garlic tonkotsu ramen\nburnt garlic tonkotsu ramen\ntori paitan ramen\ntori paitan ramen\nspicy miso ramen\nspicy miso ramen\ntruffle butter ramen\ntruffle butter ramen\nvegetarian spicy miso\nvegetarian spicy miso\ntori paitan ramen\ntori paitan ramen\nshio ramen\nshio ramen\nspicy miso ramen\nspicy miso ramen\nspicy miso ramen\nspicy miso ramen\nburnt garlic tonkotsu ramen\nburnt garlic tonkotsu ramen\nspicy miso ramen\nspicy miso ramen\nspicy miso ramen\nspicy miso ramen\nburnt garlic tonkotsu ramen\nburnt garlic tonkotsu ramen\nsoft-shell miso crab ramen\nsoft-shell miso crab ramen\ntonkotsu ramen\ntonkotsu ramen\nspicy miso ramen\nspicy miso ramen\nnagomi shoyu\nnagomi shoyu\nshio ramen\nshio ramen\nspicy miso ramen\nspicy miso ramen\nnagomi shoyu\nnagomi shoyu\nshio ramen\nshio ramen\ntonkotsu ramen\ntonkotsu ramen\nsoft-shell miso crab ramen\nsoft-shell miso crab ramen\nvegetarian spicy miso\nvegetarian spicy miso\ntori paitan ramen\ntori paitan ramen\nburnt garlic tonkotsu ramen\nburnt garlic tonkotsu ramen\ntori paitan ramen\ntori paitan ramen\ntonkotsu ramen\ntonkotsu ramen\nvegetarian spicy miso\nvegetarian spicy miso\nmiso crab ramen\nmiso crab ramen\nvegetarian curry + king trumpet mushroom ramen\nvegetarian curry + king trumpet mushroom ramen\ntori paitan ramen\ntori paitan ramen\nspicy miso ramen\nspicy miso ramen\ntori paitan ramen\ntori paitan ramen\ntori paitan ramen\ntori paitan ramen\nvegetarian spicy miso\nvegetarian spicy miso\nvegetarian curry + king trumpet mushroom ramen\nvegetarian curry + king trumpet mushroom ramen\nvegetarian curry + king trumpet mushroom ramen\nvegetarian curry + king trumpet mushroom ramen\nsoft-shell miso crab ramen\nsoft-shell miso crab ramen\nburnt garlic tonkotsu ramen\nburnt garlic tonkotsu ramen\nnagomi shoyu\nnagomi shoyu\nspicy miso ramen\nspicy miso ramen\nspicy miso ramen\nspicy miso ramen\ntonkotsu ramen\ntonkotsu ramen\nburnt garlic tonkotsu ramen\nburnt garlic tonkotsu ramen\nspicy miso ramen\nspicy miso ramen\ntori paitan ramen\ntori paitan ramen\nshio ramen\nshio ramen\ntori paitan ramen\ntori paitan ramen\ntruffle butter ramen\ntruffle butter ramen\nshio ramen\nshio ramen\ntruffle butter ramen\ntruffle butter ramen\ntruffle butter ramen\ntruffle butter ramen\nmiso crab ramen\nmiso crab ramen\nspicy miso ramen\nspicy miso ramen\nvegetarian curry + king trumpet mushroom ramen\nvegetarian curry + king trumpet mushroom ramen\nvegetarian curry + king trumpet mushroom ramen\nvegetarian curry + king trumpet mushroom ramen\nshio ramen\nshio ramen\ntruffle butter ramen\ntruffle butter ramen\nspicy miso ramen\nspicy miso ramen\nspicy miso ramen\nspicy miso ramen\nvegetarian spicy miso\nvegetarian spicy miso\ntonkotsu ramen\ntonkotsu ramen\nshio ramen\nshio ramen\ntonkotsu ramen\ntonkotsu ramen\nshio ramen\nshio ramen\nshio ramen\nshio ramen\ntruffle butter ramen\ntruffle butter ramen\nshio ramen\nshio ramen\nspicy miso ramen\nspicy miso ramen\nshio ramen\nshio ramen\ntruffle butter ramen\ntruffle butter ramen\nshio ramen\nshio ramen\ntori paitan ramen\ntori paitan ramen\nspicy miso ramen\nspicy miso ramen\ntonkotsu ramen\ntonkotsu ramen\nvegetarian curry + king trumpet mushroom ramen\nvegetarian curry + king trumpet mushroom ramen\nsoft-shell miso crab ramen\nsoft-shell miso crab ramen\ntonkotsu ramen\ntonkotsu ramen\nnagomi shoyu\nnagomi shoyu\nburnt garlic tonkotsu ramen\nburnt garlic tonkotsu ramen\nvegetarian curry + king trumpet mushroom ramen\nvegetarian curry + king trumpet mushroom ramen\nburnt garlic tonkotsu ramen\nburnt garlic tonkotsu ramen\nspicy miso ramen\nspicy miso ramen\nspicy miso ramen\nspicy miso ramen\nsoft-shell miso crab ramen\nsoft-shell miso crab ramen\nvegetarian spicy miso\nvegetarian spicy miso\nvegetarian spicy miso\nvegetarian spicy miso\nspicy miso ramen\nspicy miso ramen\ntruffle butter ramen\ntruffle butter ramen\nsoft-shell miso crab ramen\nsoft-shell miso crab ramen\nshio ramen\nshio ramen\nshio ramen\nshio ramen\nmiso crab ramen\nmiso crab ramen\nvegetarian curry + king trumpet mushroom ramen\nvegetarian curry + king trumpet mushroom ramen\ntruffle butter ramen\ntruffle butter ramen\ntruffle butter ramen\ntruffle butter ramen\nvegetarian curry + king trumpet mushroom ramen\nvegetarian curry + king trumpet mushroom ramen\nburnt garlic tonkotsu ramen\nburnt garlic tonkotsu ramen\nvegetarian spicy miso\nvegetarian spicy miso\nvegetarian curry + king trumpet mushroom ramen\nvegetarian curry + king trumpet mushroom ramen\nvegetarian curry + king trumpet mushroom ramen\nvegetarian curry + king trumpet mushroom ramen\nburnt garlic tonkotsu ramen\nburnt garlic tonkotsu ramen\ntori paitan ramen\ntori paitan ramen\ntori paitan ramen\ntori paitan ramen\nspicy miso ramen\nspicy miso ramen\nnagomi shoyu\nnagomi shoyu\nmiso crab ramen\nmiso crab ramen\ntruffle butter ramen\ntruffle butter ramen\nnagomi shoyu\nnagomi shoyu\ntruffle butter ramen\ntruffle butter ramen\nshio ramen\nshio ramen\nnagomi shoyu\nnagomi shoyu\nspicy miso ramen\nspicy miso ramen\nsoft-shell miso crab ramen\nsoft-shell miso crab ramen\nnagomi shoyu\nnagomi shoyu\nspicy miso ramen\nspicy miso ramen\nsoft-shell miso crab ramen\nsoft-shell miso crab ramen\nvegetarian spicy miso\nvegetarian spicy miso\nnagomi shoyu\nnagomi shoyu\nspicy miso ramen\nspicy miso ramen\nvegetarian spicy miso\nvegetarian spicy miso\nshio ramen\nshio ramen\nvegetarian spicy miso\nvegetarian spicy miso\nmiso crab ramen\nmiso crab ramen\nmiso crab ramen\nmiso crab ramen\ntori paitan ramen\ntori paitan ramen\ntori paitan ramen\ntori paitan ramen\nmiso crab ramen\nmiso crab ramen\ntonkotsu ramen\ntonkotsu ramen\nburnt garlic tonkotsu ramen\nburnt garlic tonkotsu ramen\nmiso crab ramen\nmiso crab ramen\ntori paitan ramen\ntori paitan ramen\nshio ramen\nshio ramen\nspicy miso ramen\nspicy miso ramen\nsoft-shell miso crab ramen\nsoft-shell miso crab ramen\nmiso crab ramen\nmiso crab ramen\ntruffle butter ramen\ntruffle butter ramen\nvegetarian curry + king trumpet mushroom ramen\nvegetarian curry + king trumpet mushroom ramen\nspicy miso ramen\nspicy miso ramen\nmiso crab ramen\nmiso crab ramen\ntonkotsu ramen\ntonkotsu ramen\ntori paitan ramen\ntori paitan ramen\ntori paitan ramen\ntori paitan ramen\nvegetarian spicy miso\nvegetarian spicy miso\ntruffle butter ramen\ntruffle butter ramen\ntruffle butter ramen\ntruffle butter ramen\ntruffle butter ramen\ntruffle butter ramen\ntori paitan ramen\ntori paitan ramen\ntonkotsu ramen\ntonkotsu ramen\nsoft-shell miso crab ramen\nsoft-shell miso crab ramen\nvegetarian curry + king trumpet mushroom ramen\nvegetarian curry + king trumpet mushroom ramen\nvegetarian spicy miso\nvegetarian spicy miso\nvegetarian curry + king trumpet mushroom ramen\nvegetarian curry + king trumpet mushroom ramen\nvegetarian spicy miso\nvegetarian spicy miso\nshio ramen\nshio ramen\nspicy miso ramen\nspicy miso ramen\ntruffle butter ramen\ntruffle butter ramen\nshio ramen\nshio ramen\ntori paitan ramen\ntori paitan ramen\nvegetarian spicy miso\nvegetarian spicy miso\nmiso crab ramen\nmiso crab ramen\nmiso crab ramen\nmiso crab ramen\nspicy miso ramen\nspicy miso ramen\nvegetarian curry + king trumpet mushroom ramen\nvegetarian curry + king trumpet mushroom ramen\nvegetarian spicy miso\nvegetarian spicy miso\ntonkotsu ramen\ntonkotsu ramen\ntori paitan ramen\ntori paitan ramen\nburnt garlic tonkotsu ramen\nburnt garlic tonkotsu ramen\nvegetarian spicy miso\nvegetarian spicy miso\nvegetarian curry + king trumpet mushroom ramen\nvegetarian curry + king trumpet mushroom ramen\nsoft-shell miso crab ramen\nsoft-shell miso crab ramen\nvegetarian curry + king trumpet mushroom ramen\nvegetarian curry + king trumpet mushroom ramen\nspicy miso ramen\nspicy miso ramen\nmiso crab ramen\nmiso crab ramen\nspicy miso ramen\nspicy miso ramen\nsoft-shell miso crab ramen\nsoft-shell miso crab ramen\nnagomi shoyu\nnagomi shoyu\ntori paitan ramen\ntori paitan ramen\nshio ramen\nshio ramen\ntori paitan ramen\ntori paitan ramen\nburnt garlic tonkotsu ramen\nburnt garlic tonkotsu ramen\nmiso crab ramen\nmiso crab ramen\ntonkotsu ramen\ntonkotsu ramen\nsoft-shell miso crab ramen\nsoft-shell miso crab ramen\nvegetarian curry + king trumpet mushroom ramen\nvegetarian curry + king trumpet mushroom ramen\nnagomi shoyu\nnagomi shoyu\nvegetarian curry + king trumpet mushroom ramen\nvegetarian curry + king trumpet mushroom ramen\ntori paitan ramen\ntori paitan ramen\nsoft-shell miso crab ramen\nsoft-shell miso crab ramen\ntonkotsu ramen\ntonkotsu ramen\nspicy miso ramen\nspicy miso ramen\ntruffle butter ramen\ntruffle butter ramen\nmiso crab ramen\nmiso crab ramen\nnagomi shoyu\nnagomi shoyu\nspicy miso ramen\nspicy miso ramen\ntonkotsu ramen\ntonkotsu ramen\nvegetarian curry + king trumpet mushroom ramen\nvegetarian curry + king trumpet mushroom ramen\nshio ramen\nshio ramen\nmiso crab ramen\nmiso crab ramen\nvegetarian curry + king trumpet mushroom ramen\nvegetarian curry + king trumpet mushroom ramen\nburnt garlic tonkotsu ramen\nburnt garlic tonkotsu ramen\ntonkotsu ramen\ntonkotsu ramen\nvegetarian curry + king trumpet mushroom ramen\nvegetarian curry + king trumpet mushroom ramen\nspicy miso ramen\nspicy miso ramen\nvegetarian curry + king trumpet mushroom ramen\nvegetarian curry + king trumpet mushroom ramen\nnagomi shoyu\nnagomi shoyu\ntruffle butter ramen\ntruffle butter ramen\nspicy miso ramen\nspicy miso ramen\nvegetarian spicy miso\nvegetarian spicy miso\ntruffle butter ramen\ntruffle butter ramen\nburnt garlic tonkotsu ramen\nburnt garlic tonkotsu ramen\nburnt garlic tonkotsu ramen\nburnt garlic tonkotsu ramen\ntonkotsu ramen\ntonkotsu ramen\nnagomi shoyu\nnagomi shoyu\ntruffle butter ramen\ntruffle butter ramen\nshio ramen\nshio ramen\ntruffle butter ramen\ntruffle butter ramen\ntori paitan ramen\ntori paitan ramen\nspicy miso ramen\nspicy miso ramen\nburnt garlic tonkotsu ramen\nburnt garlic tonkotsu ramen\nsoft-shell miso crab ramen\nsoft-shell miso crab ramen\ntori paitan ramen\ntori paitan ramen\nnagomi shoyu\nnagomi shoyu\nnagomi shoyu\nnagomi shoyu\nvegetarian spicy miso\nvegetarian spicy miso\nburnt garlic tonkotsu ramen\nburnt garlic tonkotsu ramen\nvegetarian curry + king trumpet mushroom ramen\nvegetarian curry + king trumpet mushroom ramen\nnagomi shoyu\nnagomi shoyu\ntori paitan ramen\ntori paitan ramen\nshio ramen\nshio ramen\nvegetarian spicy miso\nvegetarian spicy miso\ntori paitan ramen\ntori paitan ramen\nmiso crab ramen\nmiso crab ramen\ntruffle butter ramen\ntruffle butter ramen\nvegetarian curry + king trumpet mushroom ramen\nvegetarian curry + king trumpet mushroom ramen\nnagomi shoyu\nnagomi shoyu\ntruffle butter ramen\ntruffle butter ramen\nnagomi shoyu\nnagomi shoyu\nvegetarian spicy miso\nvegetarian spicy miso\nmiso crab ramen\nmiso crab ramen\nvegetarian curry + king trumpet mushroom ramen\nvegetarian curry + king trumpet mushroom ramen\nsoft-shell miso crab ramen\nsoft-shell miso crab ramen\nvegetarian spicy miso\nvegetarian spicy miso\nspicy miso ramen\nspicy miso ramen\nvegetarian spicy miso\nvegetarian spicy miso\ntonkotsu ramen\ntonkotsu ramen\ntonkotsu ramen\ntonkotsu ramen\nshio ramen\nshio ramen\nburnt garlic tonkotsu ramen\nburnt garlic tonkotsu ramen\nburnt garlic tonkotsu ramen\nburnt garlic tonkotsu ramen\nsoft-shell miso crab ramen\nsoft-shell miso crab ramen\nmiso crab ramen\nmiso crab ramen\nsoft-shell miso crab ramen\nsoft-shell miso crab ramen\nshio ramen\nshio ramen\ntori paitan ramen\ntori paitan ramen\ntonkotsu ramen\ntonkotsu ramen\nmiso crab ramen\nmiso crab ramen\nnagomi shoyu\nnagomi shoyu\nsoft-shell miso crab ramen\nsoft-shell miso crab ramen\nburnt garlic tonkotsu ramen\nburnt garlic tonkotsu ramen\ntori paitan ramen\ntori paitan ramen\nvegetarian spicy miso\nvegetarian spicy miso\nsoft-shell miso crab ramen\nsoft-shell miso crab ramen\ntruffle butter ramen\ntruffle butter ramen\nvegetarian curry + king trumpet mushroom ramen\nvegetarian curry + king trumpet mushroom ramen\nspicy miso ramen\nspicy miso ramen\nshio ramen\nshio ramen\ntonkotsu ramen\ntonkotsu ramen\ntruffle butter ramen\ntruffle butter ramen\nmiso crab ramen\nmiso crab ramen\nnagomi shoyu\nnagomi shoyu\nburnt garlic tonkotsu ramen\nburnt garlic tonkotsu ramen\nvegetarian curry + king trumpet mushroom ramen\nvegetarian curry + king trumpet mushroom ramen\ntori paitan ramen\ntori paitan ramen\nnagomi shoyu\nnagomi shoyu\nspicy miso ramen\nspicy miso ramen\nnagomi shoyu\nnagomi shoyu\nspicy miso ramen\nspicy miso ramen\ntonkotsu ramen\ntonkotsu ramen\ntruffle butter ramen\ntruffle butter ramen\nsoft-shell miso crab ramen\nsoft-shell miso crab ramen\nmiso crab ramen\nmiso crab ramen\ntruffle butter ramen\ntruffle butter ramen\nnagomi shoyu\nnagomi shoyu\ntruffle butter ramen\ntruffle butter ramen\nmiso crab ramen\nmiso crab ramen\nshio ramen\nshio ramen\nshio ramen\nshio ramen\nburnt garlic tonkotsu ramen\nburnt garlic tonkotsu ramen\ntonkotsu ramen\ntonkotsu ramen\nshio ramen\nshio ramen\ntruffle butter ramen\ntruffle butter ramen\nnagomi shoyu\nnagomi shoyu\nvegetarian spicy miso\nvegetarian spicy miso\nsoft-shell miso crab ramen\nsoft-shell miso crab ramen\nmiso crab ramen\nmiso crab ramen\nnagomi shoyu\nnagomi shoyu\ntori paitan ramen\ntori paitan ramen\nvegetarian curry + king trumpet mushroom ramen\nvegetarian curry + king trumpet mushroom ramen\nsoft-shell miso crab ramen\nsoft-shell miso crab ramen\nvegetarian spicy miso\nvegetarian spicy miso\ntruffle butter ramen\ntruffle butter ramen\nvegetarian curry + king trumpet mushroom ramen\nvegetarian curry + king trumpet mushroom ramen\nsoft-shell miso crab ramen\nsoft-shell miso crab ramen\nmiso crab ramen\nmiso crab ramen\nvegetarian spicy miso\nvegetarian spicy miso\ntori paitan ramen\ntori paitan ramen\ntonkotsu ramen\ntonkotsu ramen\nvegetarian spicy miso\nvegetarian spicy miso\nvegetarian curry + king trumpet mushroom ramen\nvegetarian curry + king trumpet mushroom ramen\nshio ramen\nshio ramen\ntonkotsu ramen\ntonkotsu ramen\ntruffle butter ramen\ntruffle butter ramen\nspicy miso ramen\nspicy miso ramen\ntonkotsu ramen\ntonkotsu ramen\nnagomi shoyu\nnagomi shoyu\nmiso crab ramen\nmiso crab ramen\nspicy miso ramen\nspicy miso ramen\nspicy miso ramen\nspicy miso ramen\nburnt garlic tonkotsu ramen\nburnt garlic tonkotsu ramen\ntori paitan ramen\ntori paitan ramen\nburnt garlic tonkotsu ramen\nburnt garlic tonkotsu ramen\ntruffle butter ramen\ntruffle butter ramen\nburnt garlic tonkotsu ramen\nburnt garlic tonkotsu ramen\ntori paitan ramen\ntori paitan ramen\ntonkotsu ramen\ntonkotsu ramen\nburnt garlic tonkotsu ramen\nburnt garlic tonkotsu ramen\ntori paitan ramen\ntori paitan ramen\ntruffle butter ramen\ntruffle butter ramen\nsoft-shell miso crab ramen\nsoft-shell miso crab ramen\nsoft-shell miso crab ramen\nsoft-shell miso crab ramen\nspicy miso ramen\nspicy miso ramen\nmiso crab ramen\nmiso crab ramen\ntruffle butter ramen\ntruffle butter ramen\nnagomi shoyu\nnagomi shoyu\nmiso crab ramen\nmiso crab ramen\nspicy miso ramen\nspicy miso ramen\nspicy miso ramen\nspicy miso ramen\nburnt garlic tonkotsu ramen\nburnt garlic tonkotsu ramen\ntonkotsu ramen\ntonkotsu ramen\nspicy miso ramen\nspicy miso ramen\nnagomi shoyu\nnagomi shoyu\nnagomi shoyu\nnagomi shoyu\nshio ramen\nshio ramen\ntonkotsu ramen\ntonkotsu ramen\nspicy miso ramen\nspicy miso ramen\nmiso crab ramen\nmiso crab ramen\ntonkotsu ramen\ntonkotsu ramen\ntruffle butter ramen\ntruffle butter ramen\ntruffle butter ramen\ntruffle butter ramen\nspicy miso ramen\nspicy miso ramen\nsoft-shell miso crab ramen\nsoft-shell miso crab ramen\ntori paitan ramen\ntori paitan ramen\ntruffle butter ramen\ntruffle butter ramen\nspicy miso ramen\nspicy miso ramen\ntruffle butter ramen\ntruffle butter ramen\nvegetarian curry + king trumpet mushroom ramen\nvegetarian curry + king trumpet mushroom ramen\nnagomi shoyu\nnagomi shoyu\nshio ramen\nshio ramen\nspicy miso ramen\nspicy miso ramen\nsoft-shell miso crab ramen\nsoft-shell miso crab ramen\nsoft-shell miso crab ramen\nsoft-shell miso crab ramen\nburnt garlic tonkotsu ramen\nburnt garlic tonkotsu ramen\nmiso crab ramen\nmiso crab ramen\nsoft-shell miso crab ramen\nsoft-shell miso crab ramen\nnagomi shoyu\nnagomi shoyu\ntonkotsu ramen\ntonkotsu ramen\ntori paitan ramen\ntori paitan ramen\nspicy miso ramen\nspicy miso ramen\ntori paitan ramen\ntori paitan ramen\ntonkotsu ramen\ntonkotsu ramen\ntori paitan ramen\ntori paitan ramen\nspicy miso ramen\nspicy miso ramen\nsoft-shell miso crab ramen\nsoft-shell miso crab ramen\nvegetarian spicy miso\nvegetarian spicy miso\ntonkotsu ramen\ntonkotsu ramen\nburnt garlic tonkotsu ramen\nburnt garlic tonkotsu ramen\nburnt garlic tonkotsu ramen\nburnt garlic tonkotsu ramen\ntonkotsu ramen\ntonkotsu ramen\nburnt garlic tonkotsu ramen\nburnt garlic tonkotsu ramen\nspicy miso ramen\nspicy miso ramen\nshio ramen\nshio ramen\ntori paitan ramen\ntori paitan ramen\nshio ramen\nshio ramen\ntori paitan ramen\ntori paitan ramen\nspicy miso ramen\nspicy miso ramen\ntori paitan ramen\ntori paitan ramen\ntonkotsu ramen\ntonkotsu ramen\nshio ramen\nshio ramen"
    },
    {
     "output_type": "error",
     "ename": "KeyboardInterrupt",
     "evalue": "",
     "traceback": [
      "\u001b[1;31m---------------------------------------------------------------------------\u001b[0m",
      "\u001b[1;31mKeyboardInterrupt\u001b[0m                         Traceback (most recent call last)",
      "\u001b[1;32m<ipython-input-8-9e06cb499ef9>\u001b[0m in \u001b[0;36m<module>\u001b[1;34m\u001b[0m\n\u001b[0;32m      8\u001b[0m \u001b[1;33m\u001b[0m\u001b[0m\n\u001b[0;32m      9\u001b[0m     \u001b[1;32mfor\u001b[0m \u001b[0msale\u001b[0m \u001b[1;32min\u001b[0m \u001b[0msales\u001b[0m\u001b[1;33m:\u001b[0m\u001b[1;33m\u001b[0m\u001b[1;33m\u001b[0m\u001b[0m\n\u001b[1;32m---> 10\u001b[1;33m         \u001b[0mprint\u001b[0m\u001b[1;33m(\u001b[0m\u001b[0msale\u001b[0m\u001b[1;33m[\u001b[0m\u001b[1;36m4\u001b[0m\u001b[1;33m]\u001b[0m\u001b[1;33m)\u001b[0m\u001b[1;33m\u001b[0m\u001b[1;33m\u001b[0m\u001b[0m\n\u001b[0m\u001b[0;32m     11\u001b[0m \u001b[1;33m\u001b[0m\u001b[0m\n\u001b[0;32m     12\u001b[0m         \u001b[1;31m# report[menu_item]['01-count'] = quantity\u001b[0m\u001b[1;33m\u001b[0m\u001b[1;33m\u001b[0m\u001b[1;33m\u001b[0m\u001b[0m\n",
      "\u001b[1;32m~\\anaconda3\\lib\\site-packages\\ipykernel\\iostream.py\u001b[0m in \u001b[0;36mwrite\u001b[1;34m(self, string)\u001b[0m\n\u001b[0;32m    402\u001b[0m             \u001b[0mis_child\u001b[0m \u001b[1;33m=\u001b[0m \u001b[1;33m(\u001b[0m\u001b[1;32mnot\u001b[0m \u001b[0mself\u001b[0m\u001b[1;33m.\u001b[0m\u001b[0m_is_master_process\u001b[0m\u001b[1;33m(\u001b[0m\u001b[1;33m)\u001b[0m\u001b[1;33m)\u001b[0m\u001b[1;33m\u001b[0m\u001b[1;33m\u001b[0m\u001b[0m\n\u001b[0;32m    403\u001b[0m             \u001b[1;31m# only touch the buffer in the IO thread to avoid races\u001b[0m\u001b[1;33m\u001b[0m\u001b[1;33m\u001b[0m\u001b[1;33m\u001b[0m\u001b[0m\n\u001b[1;32m--> 404\u001b[1;33m             \u001b[0mself\u001b[0m\u001b[1;33m.\u001b[0m\u001b[0mpub_thread\u001b[0m\u001b[1;33m.\u001b[0m\u001b[0mschedule\u001b[0m\u001b[1;33m(\u001b[0m\u001b[1;32mlambda\u001b[0m \u001b[1;33m:\u001b[0m \u001b[0mself\u001b[0m\u001b[1;33m.\u001b[0m\u001b[0m_buffer\u001b[0m\u001b[1;33m.\u001b[0m\u001b[0mwrite\u001b[0m\u001b[1;33m(\u001b[0m\u001b[0mstring\u001b[0m\u001b[1;33m)\u001b[0m\u001b[1;33m)\u001b[0m\u001b[1;33m\u001b[0m\u001b[1;33m\u001b[0m\u001b[0m\n\u001b[0m\u001b[0;32m    405\u001b[0m             \u001b[1;32mif\u001b[0m \u001b[0mis_child\u001b[0m\u001b[1;33m:\u001b[0m\u001b[1;33m\u001b[0m\u001b[1;33m\u001b[0m\u001b[0m\n\u001b[0;32m    406\u001b[0m                 \u001b[1;31m# mp.Pool cannot be trusted to flush promptly (or ever),\u001b[0m\u001b[1;33m\u001b[0m\u001b[1;33m\u001b[0m\u001b[1;33m\u001b[0m\u001b[0m\n",
      "\u001b[1;32m~\\anaconda3\\lib\\site-packages\\ipykernel\\iostream.py\u001b[0m in \u001b[0;36mschedule\u001b[1;34m(self, f)\u001b[0m\n\u001b[0;32m    203\u001b[0m             \u001b[0mself\u001b[0m\u001b[1;33m.\u001b[0m\u001b[0m_events\u001b[0m\u001b[1;33m.\u001b[0m\u001b[0mappend\u001b[0m\u001b[1;33m(\u001b[0m\u001b[0mf\u001b[0m\u001b[1;33m)\u001b[0m\u001b[1;33m\u001b[0m\u001b[1;33m\u001b[0m\u001b[0m\n\u001b[0;32m    204\u001b[0m             \u001b[1;31m# wake event thread (message content is ignored)\u001b[0m\u001b[1;33m\u001b[0m\u001b[1;33m\u001b[0m\u001b[1;33m\u001b[0m\u001b[0m\n\u001b[1;32m--> 205\u001b[1;33m             \u001b[0mself\u001b[0m\u001b[1;33m.\u001b[0m\u001b[0m_event_pipe\u001b[0m\u001b[1;33m.\u001b[0m\u001b[0msend\u001b[0m\u001b[1;33m(\u001b[0m\u001b[1;34mb''\u001b[0m\u001b[1;33m)\u001b[0m\u001b[1;33m\u001b[0m\u001b[1;33m\u001b[0m\u001b[0m\n\u001b[0m\u001b[0;32m    206\u001b[0m         \u001b[1;32melse\u001b[0m\u001b[1;33m:\u001b[0m\u001b[1;33m\u001b[0m\u001b[1;33m\u001b[0m\u001b[0m\n\u001b[0;32m    207\u001b[0m             \u001b[0mf\u001b[0m\u001b[1;33m(\u001b[0m\u001b[1;33m)\u001b[0m\u001b[1;33m\u001b[0m\u001b[1;33m\u001b[0m\u001b[0m\n",
      "\u001b[1;32m~\\anaconda3\\lib\\site-packages\\zmq\\sugar\\socket.py\u001b[0m in \u001b[0;36msend\u001b[1;34m(self, data, flags, copy, track, routing_id, group)\u001b[0m\n\u001b[0;32m    398\u001b[0m                                  copy_threshold=self.copy_threshold)\n\u001b[0;32m    399\u001b[0m             \u001b[0mdata\u001b[0m\u001b[1;33m.\u001b[0m\u001b[0mgroup\u001b[0m \u001b[1;33m=\u001b[0m \u001b[0mgroup\u001b[0m\u001b[1;33m\u001b[0m\u001b[1;33m\u001b[0m\u001b[0m\n\u001b[1;32m--> 400\u001b[1;33m         \u001b[1;32mreturn\u001b[0m \u001b[0msuper\u001b[0m\u001b[1;33m(\u001b[0m\u001b[0mSocket\u001b[0m\u001b[1;33m,\u001b[0m \u001b[0mself\u001b[0m\u001b[1;33m)\u001b[0m\u001b[1;33m.\u001b[0m\u001b[0msend\u001b[0m\u001b[1;33m(\u001b[0m\u001b[0mdata\u001b[0m\u001b[1;33m,\u001b[0m \u001b[0mflags\u001b[0m\u001b[1;33m=\u001b[0m\u001b[0mflags\u001b[0m\u001b[1;33m,\u001b[0m \u001b[0mcopy\u001b[0m\u001b[1;33m=\u001b[0m\u001b[0mcopy\u001b[0m\u001b[1;33m,\u001b[0m \u001b[0mtrack\u001b[0m\u001b[1;33m=\u001b[0m\u001b[0mtrack\u001b[0m\u001b[1;33m)\u001b[0m\u001b[1;33m\u001b[0m\u001b[1;33m\u001b[0m\u001b[0m\n\u001b[0m\u001b[0;32m    401\u001b[0m \u001b[1;33m\u001b[0m\u001b[0m\n\u001b[0;32m    402\u001b[0m     \u001b[1;32mdef\u001b[0m \u001b[0msend_multipart\u001b[0m\u001b[1;33m(\u001b[0m\u001b[0mself\u001b[0m\u001b[1;33m,\u001b[0m \u001b[0mmsg_parts\u001b[0m\u001b[1;33m,\u001b[0m \u001b[0mflags\u001b[0m\u001b[1;33m=\u001b[0m\u001b[1;36m0\u001b[0m\u001b[1;33m,\u001b[0m \u001b[0mcopy\u001b[0m\u001b[1;33m=\u001b[0m\u001b[1;32mTrue\u001b[0m\u001b[1;33m,\u001b[0m \u001b[0mtrack\u001b[0m\u001b[1;33m=\u001b[0m\u001b[1;32mFalse\u001b[0m\u001b[1;33m,\u001b[0m \u001b[1;33m**\u001b[0m\u001b[0mkwargs\u001b[0m\u001b[1;33m)\u001b[0m\u001b[1;33m:\u001b[0m\u001b[1;33m\u001b[0m\u001b[1;33m\u001b[0m\u001b[0m\n",
      "\u001b[1;32mzmq/backend/cython/socket.pyx\u001b[0m in \u001b[0;36mzmq.backend.cython.socket.Socket.send\u001b[1;34m()\u001b[0m\n",
      "\u001b[1;32mzmq/backend/cython/socket.pyx\u001b[0m in \u001b[0;36mzmq.backend.cython.socket.Socket.send\u001b[1;34m()\u001b[0m\n",
      "\u001b[1;32mzmq/backend/cython/socket.pyx\u001b[0m in \u001b[0;36mzmq.backend.cython.socket._send_copy\u001b[1;34m()\u001b[0m\n",
      "\u001b[1;32m~\\anaconda3\\lib\\site-packages\\zmq\\backend\\cython\\checkrc.pxd\u001b[0m in \u001b[0;36mzmq.backend.cython.checkrc._check_rc\u001b[1;34m()\u001b[0m\n",
      "\u001b[1;31mKeyboardInterrupt\u001b[0m: "
     ]
    }
   ],
   "source": [
    "for entry in menu:\n",
    "    menu_item = entry[0]\n",
    "    item_price = float(entry[3])\n",
    "    item_cost = float(entry[4])\n",
    "    item_quantity = 0\n",
    "    item_revenue = 0\n",
    "    item_profit = item_cost - item_price\n",
    "\n",
    "    for sale in sales:\n",
    "        if menu_item == sale[4]:\n",
    "            item_quantity += float(sale[3])\n",
    "\n",
    "        # report[menu_item]['01-count'] = quantity\n",
    "        # report[menu_item]['02-revenue'] = revenue\n",
    "        # report[menu_item]['03-cogs'] = cogs\n",
    "        # report[menu_item]['04-profit'] = profit\n",
    "\n",
    "# print(report)\n"
   ]
  },
  {
   "cell_type": "code",
   "execution_count": null,
   "metadata": {},
   "outputs": [],
   "source": []
  }
 ]
}