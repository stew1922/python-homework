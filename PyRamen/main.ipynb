{
 "metadata": {
  "language_info": {
   "codemirror_mode": {
    "name": "ipython",
    "version": 3
   },
   "file_extension": ".py",
   "mimetype": "text/x-python",
   "name": "python",
   "nbconvert_exporter": "python",
   "pygments_lexer": "ipython3",
   "version": "3.8.3-final"
  },
  "orig_nbformat": 2,
  "kernelspec": {
   "name": "Python 3.8.3 64-bit ('base': conda)",
   "display_name": "Python 3.8.3 64-bit ('base': conda)",
   "metadata": {
    "interpreter": {
     "hash": "ccf84ffe5cf603e51c19b5d04a34c5dc50c44e9c354d1e154b7697a3403a7e31"
    }
   }
  }
 },
 "nbformat": 4,
 "nbformat_minor": 2,
 "cells": [
  {
   "source": [
    "## Import Path from pathlib library\n",
    "## import the csv library\n"
   ],
   "cell_type": "markdown",
   "metadata": {}
  },
  {
   "cell_type": "code",
   "execution_count": 1,
   "metadata": {},
   "outputs": [],
   "source": [
    "from pathlib import Path\n",
    "import csv"
   ]
  },
  {
   "source": [
    "# **PART 1**\n",
    "## Read the Data"
   ],
   "cell_type": "markdown",
   "metadata": {}
  },
  {
   "source": [
    "### read menu data\n",
    "#### initialize menu list to store the data from [menu_data.csv](./Resources/menu_data.csv)"
   ],
   "cell_type": "markdown",
   "metadata": {}
  },
  {
   "cell_type": "code",
   "execution_count": 2,
   "metadata": {},
   "outputs": [],
   "source": [
    "menu = []"
   ]
  },
  {
   "source": [
    "#### create the filepath to [menu_data.csv](./Resources/menu_data.csv), store it as an object"
   ],
   "cell_type": "markdown",
   "metadata": {}
  },
  {
   "cell_type": "code",
   "execution_count": 3,
   "metadata": {},
   "outputs": [],
   "source": [
    "menupath = Path('./Resources/menu_data.csv')"
   ]
  },
  {
   "source": [
    "#### open the file and create an object that reads the data and then append every row in [menu_data.csv](./Resources/menu_data.csv) to the menu list"
   ],
   "cell_type": "markdown",
   "metadata": {}
  },
  {
   "cell_type": "code",
   "execution_count": 4,
   "metadata": {
    "tags": []
   },
   "outputs": [],
   "source": [
    "with open(menupath, 'r') as menu_data:\n",
    "    menureader = csv.reader(menu_data, delimiter = ',')\n",
    "    \n",
    "    next(menureader)\n",
    "    for item in menureader:\n",
    "        menu.append(item)"
   ]
  },
  {
   "source": [
    "#### repeat above process for [sales_data.csv](./Resources/sales_data.csv)\n"
   ],
   "cell_type": "markdown",
   "metadata": {}
  },
  {
   "cell_type": "code",
   "execution_count": 5,
   "metadata": {
    "tags": []
   },
   "outputs": [],
   "source": [
    "sales = []\n",
    "\n",
    "salespath = Path('./Resources/sales_data.csv')\n",
    "\n",
    "with open(salespath, 'r') as sales_data:\n",
    "    salesreader = csv.reader(sales_data, delimiter = ',')\n",
    "\n",
    "    for sale in salesreader:\n",
    "        sales.append(sale)"
   ]
  },
  {
   "source": [
    "# **PART 2**\n",
    "## manipulate the data"
   ],
   "cell_type": "markdown",
   "metadata": {}
  },
  {
   "source": [
    "### initialize a 'report' dicitonary to hold the following items:\n",
    "#### * '01-count' = total quantity for each ramen type\n",
    "#### * '02-rev' = total revenue for each ramen type\n",
    "#### * '03-cogs' = total cost of good sold for each ramen type\n",
    "#### * '04-profit' = total profit for each ramen type\n",
    "##### _HINT: the ramen types are categorized as 'entree'_"
   ],
   "cell_type": "markdown",
   "metadata": {}
  },
  {
   "cell_type": "code",
   "execution_count": 6,
   "metadata": {
    "tags": []
   },
   "outputs": [],
   "source": [
    "report = {}\n",
    "\n",
    "for entry in menu:\n",
    "    stuff = {\n",
    "        \"01-count\": 0,\n",
    "        \"02-revenue\": 0,\n",
    "        \"03-cogs\": 0,\n",
    "        \"04-profit\": 0\n",
    "    }\n",
    "    if entry[0] in report:\n",
    "        continue\n",
    "    else:\n",
    "        if entry[1] == 'entree':\n",
    "            report[entry[0]] = stuff"
   ]
  },
  {
   "source": [
    "### loop through menu and set the following to their own variables:\n",
    "#### * Item\n",
    "#### * Price\n",
    "#### * Cost\n",
    "### Once those are set, if the sales item in report is equal to item in menu, then capture the QUANTITY from [sales_data.csv](./Resources/sales_data.csv) and the PRICE and COST from [menu_data.csv](./Resources/menu_data.csv) and calculate the PROFIT for each item"
   ],
   "cell_type": "markdown",
   "metadata": {}
  },
  {
   "cell_type": "code",
   "execution_count": 7,
   "metadata": {
    "tags": []
   },
   "outputs": [
    {
     "output_type": "stream",
     "name": "stdout",
     "text": "nagomi shoyu\n{'01-count': 9132.0, '02-revenue': 100452.0, '03-cogs': 45660.0, '04-profit': 54792.0}\nshio ramen\n{'01-count': 9180.0, '02-revenue': 100980.0, '03-cogs': 45900.0, '04-profit': 55080.0}\nspicy miso ramen\n{'01-count': 9238.0, '02-revenue': 110856.0, '03-cogs': 46190.0, '04-profit': 64666.0}\nvegetarian spicy miso\n{'01-count': 9216.0, '02-revenue': 110592.0, '03-cogs': 46080.0, '04-profit': 64512.0}\nmiso crab ramen\n{'01-count': 8890.0, '02-revenue': 106680.0, '03-cogs': 53340.0, '04-profit': 53340.0}\nsoft-shell miso crab ramen\n{'01-count': 9130.0, '02-revenue': 127820.0, '03-cogs': 63910.0, '04-profit': 63910.0}\ntori paitan ramen\n{'01-count': 9156.0, '02-revenue': 119028.0, '03-cogs': 54936.0, '04-profit': 64092.0}\ntonkotsu ramen\n{'01-count': 9288.0, '02-revenue': 120744.0, '03-cogs': 55728.0, '04-profit': 65016.0}\nburnt garlic tonkotsu ramen\n{'01-count': 9070.0, '02-revenue': 126980.0, '03-cogs': 54420.0, '04-profit': 72560.0}\nvegetarian curry + king trumpet mushroom ramen\n{'01-count': 8824.0, '02-revenue': 114712.0, '03-cogs': 61768.0, '04-profit': 52944.0}\ntruffle butter ramen\n{'01-count': 8982.0, '02-revenue': 125748.0, '03-cogs': 62874.0, '04-profit': 62874.0}\n"
    }
   ],
   "source": [
    "# print(menu)\n",
    "# print(report)\n",
    "for entry in menu:\n",
    "    menu_item = entry[0]\n",
    "    if menu_item in report:\n",
    "        item_price = float(entry[3])\n",
    "        item_cost = float(entry[4])\n",
    "        item_quantity = 0\n",
    "        item_revenue = 0\n",
    "        item_cogs = 0\n",
    "        item_profit = 0\n",
    "\n",
    "        for sale in sales:\n",
    "            if sale[4] == menu_item:\n",
    "                item_quantity += float(sale[3])\n",
    "            else:\n",
    "                continue\n",
    "\n",
    "            item_revenue = (item_quantity * item_price)\n",
    "            item_cogs = (item_quantity * item_cost)\n",
    "            item_profit = (item_revenue - item_cogs)        \n",
    "            report[menu_item]['01-count'] = item_quantity\n",
    "            report[menu_item]['02-revenue'] = item_revenue\n",
    "            report[menu_item]['03-cogs'] = item_cogs\n",
    "            report[menu_item]['04-profit'] = item_profit\n",
    "    \n",
    "    else:\n",
    "        continue\n",
    "\n",
    "\n",
    "for ramen in report:\n",
    "    print(ramen)\n",
    "    print(report[ramen])\n"
   ]
  },
  {
   "source": [
    "### write the report to .txt file with location of ./Resources/PyRamenOutput.txt"
   ],
   "cell_type": "markdown",
   "metadata": {}
  },
  {
   "cell_type": "code",
   "execution_count": 13,
   "metadata": {
    "tags": []
   },
   "outputs": [],
   "source": [
    "filepath = Path('./Resources/PyRamenOutput.txt')\n",
    "\n",
    "with open(filepath, 'w') as output:\n",
    "\n",
    "    output_list = []\n",
    "\n",
    "    for row in report:\n",
    "        output_list.append([f'{row} {report[row]} \\n'])\n",
    "    \n",
    "    for line in output_list:\n",
    "        output.writelines(line)\n"
   ]
  },
  {
   "cell_type": "code",
   "execution_count": null,
   "metadata": {},
   "outputs": [],
   "source": []
  }
 ]
}